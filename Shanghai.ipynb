{
 "cells": [
  {
   "cell_type": "code",
   "execution_count": 31,
   "metadata": {},
   "outputs": [],
   "source": [
    "import pandas as pd\n",
    "import re\n",
    "\n",
    "pd.set_option('display.width',180)\n",
    "\n",
    "data = pd.read_excel(\".\\Results\\Shanghai.xlsx\",header = 0)\n",
    "data.head(10)\n",
    "data.columns = ['index','time','content','name','gender','age','work','place','workplace','relation','hospital','action','place_list','action_list','flag_list']\n",
    "data.drop('index',axis=1)\n",
    "flag_list = []\n",
    "for item in data['content']:\n",
    "    match = re.search(r'无新增本地新冠肺炎确诊病例。',item, re.I|re.M)\n",
    "    if match != None:\n",
    "        flag_list.append(1)\n",
    "    else:\n",
    "        flag_list.append(0)\n",
    "data['flag'] = flag_list\n",
    "data.head(10)\n",
    "data.to_excel(\"./Results/Shanghai.xlsx\")\n"
   ]
  },
  {
   "cell_type": "code",
   "execution_count": 34,
   "metadata": {},
   "outputs": [],
   "source": [
    "data = pd.read_excel(\".\\Results\\Shanghai.xlsx\",header=0)\n",
    "data_local = data[data['flag']==0]\n",
    "data_local.to_excel(\".\\Results\\Shanghai_local.xlsx\")"
   ]
  },
  {
   "cell_type": "code",
   "execution_count": null,
   "metadata": {},
   "outputs": [],
   "source": []
  }
 ],
 "metadata": {
  "interpreter": {
   "hash": "b3ba2566441a7c06988d0923437866b63cedc61552a5af99d1f4fb67d367b25f"
  },
  "kernelspec": {
   "display_name": "Python 3.8.8 64-bit ('base': conda)",
   "language": "python",
   "name": "python3"
  },
  "language_info": {
   "codemirror_mode": {
    "name": "ipython",
    "version": 3
   },
   "file_extension": ".py",
   "mimetype": "text/x-python",
   "name": "python",
   "nbconvert_exporter": "python",
   "pygments_lexer": "ipython3",
   "version": "3.8.8"
  },
  "orig_nbformat": 4
 },
 "nbformat": 4,
 "nbformat_minor": 2
}
